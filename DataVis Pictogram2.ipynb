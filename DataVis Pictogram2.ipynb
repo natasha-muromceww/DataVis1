{
 "cells": [
  {
   "cell_type": "markdown",
   "id": "a484b40c",
   "metadata": {},
   "source": [
    "# A Pictogram representation of the number of items in my closet and the amount that I actually wore during Spring Term"
   ]
  },
  {
   "cell_type": "code",
   "execution_count": 1,
   "id": "852e57f8",
   "metadata": {},
   "outputs": [
    {
     "name": "stdout",
     "output_type": "stream",
     "text": [
      "Requirement already satisfied: pywaffle in /opt/anaconda3/lib/python3.8/site-packages (0.6.3)\n",
      "Requirement already satisfied: matplotlib in /opt/anaconda3/lib/python3.8/site-packages (3.3.4)\n",
      "Requirement already satisfied: kiwisolver>=1.0.1 in /opt/anaconda3/lib/python3.8/site-packages (from matplotlib) (1.3.1)\n",
      "Requirement already satisfied: pyparsing!=2.0.4,!=2.1.2,!=2.1.6,>=2.0.3 in /opt/anaconda3/lib/python3.8/site-packages (from matplotlib) (2.4.7)\n",
      "Requirement already satisfied: python-dateutil>=2.1 in /opt/anaconda3/lib/python3.8/site-packages (from matplotlib) (2.8.1)\n",
      "Requirement already satisfied: cycler>=0.10 in /opt/anaconda3/lib/python3.8/site-packages (from matplotlib) (0.10.0)\n",
      "Requirement already satisfied: numpy>=1.15 in /opt/anaconda3/lib/python3.8/site-packages (from matplotlib) (1.20.1)\n",
      "Requirement already satisfied: pillow>=6.2.0 in /opt/anaconda3/lib/python3.8/site-packages (from matplotlib) (8.2.0)\n",
      "Requirement already satisfied: six in /opt/anaconda3/lib/python3.8/site-packages (from cycler>=0.10->matplotlib) (1.15.0)\n"
     ]
    }
   ],
   "source": [
    "!pip install pywaffle matplotlib"
   ]
  },
  {
   "cell_type": "code",
   "execution_count": 2,
   "id": "48c27ffe",
   "metadata": {},
   "outputs": [],
   "source": [
    "from pywaffle import Waffle\n",
    "import matplotlib.pyplot as plt"
   ]
  },
  {
   "cell_type": "code",
   "execution_count": 13,
   "id": "27bc12f8",
   "metadata": {},
   "outputs": [
    {
     "data": {
      "text/plain": [
       "Text(0.5, 1.0, 'Tops')"
      ]
     },
     "execution_count": 13,
     "metadata": {},
     "output_type": "execute_result"
    },
    {
     "data": {
      "image/png": "[encoded data removed]",
      "text/plain": [
       "<Waffle size 432x288 with 1 Axes>"
      ]
     },
     "metadata": {
      "needs_background": "light"
     },
     "output_type": "display_data"
    }
   ],
   "source": [
    "fig = plt.figure(\n",
    "    FigureClass=Waffle,\n",
    "    rows=4,\n",
    "    columns=14, \n",
    "    values={'Worn':35, 'Not worn':22},\n",
    "    colors=[\"#ff3399\", \"#ffd6eb\"],\n",
    "    icons=['heart', 'square'],\n",
    "    font_size=15,\n",
    "    icon_legend=True,\n",
    "    legend={'loc': 'upper left', 'bbox_to_anchor': (1, 1)})\n",
    "\n",
    "plt.title('Tops', fontsize=25)"
   ]
  },
  {
   "cell_type": "code",
   "execution_count": 14,
   "id": "4115935e",
   "metadata": {},
   "outputs": [
    {
     "data": {
      "text/plain": [
       "Text(0.5, 1.0, 'Bottoms')"
      ]
     },
     "execution_count": 14,
     "metadata": {},
     "output_type": "execute_result"
    },
    {
     "data": {
      "image/png": "[encoded data removed]",
      "text/plain": [
       "<Waffle size 432x288 with 1 Axes>"
      ]
     },
     "metadata": {
      "needs_background": "light"
     },
     "output_type": "display_data"
    }
   ],
   "source": [
    "fig = plt.figure(\n",
    "    FigureClass=Waffle,\n",
    "    rows=4,\n",
    "    columns=8, \n",
    "    values={'Worn':16, 'Not worn':17},\n",
    "    colors=[\"#ff3399\", \"#ffd6eb\"],\n",
    "    icons=['heart', 'square'],\n",
    "    font_size=15,\n",
    "    icon_legend=True,\n",
    "    legend={'loc': 'upper left', 'bbox_to_anchor': (1, 1)})\n",
    "\n",
    "plt.title('Bottoms', fontsize=25)"
   ]
  },
  {
   "cell_type": "code",
   "execution_count": 17,
   "id": "ad5df6a5",
   "metadata": {},
   "outputs": [
    {
     "data": {
      "text/plain": [
       "Text(0.5, 1.0, 'Shoes')"
      ]
     },
     "execution_count": 17,
     "metadata": {},
     "output_type": "execute_result"
    },
    {
     "data": {
      "image/png": "[encoded data removed]",
      "text/plain": [
       "<Waffle size 432x288 with 1 Axes>"
      ]
     },
     "metadata": {
      "needs_background": "light"
     },
     "output_type": "display_data"
    }
   ],
   "source": [
    "fig = plt.figure(\n",
    "    FigureClass=Waffle,\n",
    "    rows=4,\n",
    "    columns=3, \n",
    "    values={'Worn':6, 'Not worn':6},\n",
    "    colors=[\"#ff3399\", \"#ffd6eb\"],\n",
    "    icons=['heart', 'square'],\n",
    "    font_size=15,\n",
    "    icon_legend=True,\n",
    "    legend={'loc': 'upper left', 'bbox_to_anchor': (1, 1)})\n",
    "\n",
    "plt.title('Shoes', fontsize=25)"
   ]
  },
  {
   "cell_type": "code",
   "execution_count": 16,
   "id": "e9d13c2a",
   "metadata": {},
   "outputs": [
    {
     "data": {
      "text/plain": [
       "Text(0.5, 1.0, 'Outerwear')"
      ]
     },
     "execution_count": 16,
     "metadata": {},
     "output_type": "execute_result"
    },
    {
     "data": {
      "image/png": "[encoded data removed]",
      "text/plain": [
       "<Waffle size 432x288 with 1 Axes>"
      ]
     },
     "metadata": {
      "needs_background": "light"
     },
     "output_type": "display_data"
    }
   ],
   "source": [
    "fig = plt.figure(\n",
    "    FigureClass=Waffle,\n",
    "    rows=4,\n",
    "    columns=4, \n",
    "    values={'Worn':11, 'Not worn':5},\n",
    "    colors=[\"#ff3399\", \"#ffd6eb\"],\n",
    "    icons=['heart', 'square'],\n",
    "    font_size=15,\n",
    "    icon_legend=True,\n",
    "    legend={'loc': 'upper left', 'bbox_to_anchor': (1, 1)})\n",
    "\n",
    "plt.title('Outerwear', fontsize=25)"
   ]
  },
  {
   "cell_type": "code",
   "execution_count": 15,
   "id": "536e5d14",
   "metadata": {},
   "outputs": [
    {
     "data": {
      "text/plain": [
       "Text(0.5, 1.0, 'Accesories')"
      ]
     },
     "execution_count": 15,
     "metadata": {},
     "output_type": "execute_result"
    },
    {
     "data": {
      "image/png": "[encoded data removed]",
      "text/plain": [
       "<Waffle size 432x288 with 1 Axes>"
      ]
     },
     "metadata": {
      "needs_background": "light"
     },
     "output_type": "display_data"
    }
   ],
   "source": [
    "fig = plt.figure(\n",
    "    FigureClass=Waffle,\n",
    "    rows=4,\n",
    "    columns=8, \n",
    "    values={'Worn':7, 'Not worn':23},\n",
    "    colors=[\"#ff3399\", \"#ffd6eb\"],\n",
    "    icons=['heart', 'square'],\n",
    "    font_size=15,\n",
    "    icon_legend=True,\n",
    "    legend={'loc': 'upper left', 'bbox_to_anchor': (1, 1)})\n",
    "\n",
    "plt.title('Accesories', fontsize=25)"
   ]
  }
 ],
 "metadata": {
  "kernelspec": {
   "display_name": "Python 3",
   "language": "python",
   "name": "python3"
  },
  "language_info": {
   "codemirror_mode": {
    "name": "ipython",
    "version": 3
   },
   "file_extension": ".py",
   "mimetype": "text/x-python",
   "name": "python",
   "nbconvert_exporter": "python",
   "pygments_lexer": "ipython3",
   "version": "3.8.8"
  }
 },
 "nbformat": 4,
 "nbformat_minor": 5
}
